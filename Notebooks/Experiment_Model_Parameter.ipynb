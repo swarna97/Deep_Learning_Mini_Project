{
  "nbformat": 4,
  "nbformat_minor": 0,
  "metadata": {
    "colab": {
      "provenance": []
    },
    "kernelspec": {
      "name": "python3",
      "display_name": "Python 3"
    },
    "language_info": {
      "name": "python"
    }
  },
  "cells": [
    {
      "cell_type": "code",
      "source": [
        "import torch\n",
        "import torch.nn as nn\n",
        "import torch.nn.functional as F"
      ],
      "metadata": {
        "id": "03HWyIp18b84"
      },
      "execution_count": null,
      "outputs": []
    },
    {
      "cell_type": "code",
      "source": [
        "def count_parameters(model):\n",
        "    return sum(p.numel() for p in model.parameters() if p.requires_grad)"
      ],
      "metadata": {
        "id": "u5QdsYxz8aHd"
      },
      "execution_count": null,
      "outputs": []
    },
    {
      "cell_type": "code",
      "execution_count": null,
      "metadata": {
        "id": "KrEdemxO7iyP"
      },
      "outputs": [],
      "source": [
        "class BasicBlock(nn.Module):\n",
        "\n",
        "    def __init__(self, in_planes, planes, stride=1):\n",
        "        super(BasicBlock, self).__init__()\n",
        "        self.conv1 = nn.Conv2d(\n",
        "            in_planes, planes, kernel_size=3, stride=stride, padding=1, bias=False)\n",
        "        self.bn1 = nn.BatchNorm2d(planes)\n",
        "        self.conv2 = nn.Conv2d(planes, planes, kernel_size=3,\n",
        "                               stride=1, padding=1, bias=False)\n",
        "        self.bn2 = nn.BatchNorm2d(planes)\n",
        "\n",
        "        self.shortcut = nn.Sequential()\n",
        "        if stride != 1 or in_planes != planes:\n",
        "            self.shortcut = nn.Sequential(\n",
        "                nn.Conv2d(in_planes, planes,\n",
        "                          kernel_size=kernel_size, stride=stride, bias=False),\n",
        "                nn.BatchNorm2d(planes)\n",
        "            )\n",
        "    def forward(self, x):\n",
        "        out = F.relu(self.bn1(self.conv1(x)))\n",
        "        out = self.bn2(self.conv2(out))\n",
        "        out += self.shortcut(x)\n",
        "        out = F.relu(out)\n",
        "        return out\n",
        "\n",
        "class ResNet(nn.Module):\n",
        "    def __init__(self, block, num_blocks, num_classes=10):\n",
        "        super(ResNet, self).__init__()\n",
        "        self.in_planes = 64\n",
        "\n",
        "        self.conv1 = nn.Conv2d(3, 64, kernel_size=3,\n",
        "                               stride=1, padding=1, bias=False)\n",
        "        self.bn1 = nn.BatchNorm2d(64)\n",
        "        self.layer1 = self._make_layer(block, 64, num_blocks[0], stride=1)\n",
        "        self.layer2 = self._make_layer(block, 128, num_blocks[1], stride=2)\n",
        "        self.layer3 = self._make_layer(block, 256, num_blocks[2], stride=2)\n",
        "        self.layer4 = self._make_layer(block, 512, num_blocks[3], stride=2)\n",
        "        self.linear = nn.Linear(512, num_classes)\n",
        "  \n",
        "  \n",
        "    def _make_layer(self, block, planes, num_blocks, stride):\n",
        "        downsample = None\n",
        "        strides = [stride] + [1]*(num_blocks-1)\n",
        "        layers = []\n",
        "        for stride in strides:\n",
        "            layers.append(block(self.in_planes, planes, stride))\n",
        "            self.in_planes = planes\n",
        "        return nn.Sequential(*layers)\n",
        "\n",
        "\n",
        "    def forward(self, x):\n",
        "        out = F.relu(self.bn1(self.conv1(x)))\n",
        "        out = self.layer1(out)\n",
        "        out = self.layer2(out)\n",
        "        out = self.layer3(out)\n",
        "        out = self.layer4(out)\n",
        "        out = F.avg_pool2d(out, pool_size)\n",
        "        out = out.view(out.size(0), -1)\n",
        "        out = self.linear(out)\n",
        "        return out"
      ]
    },
    {
      "cell_type": "code",
      "source": [
        "#Configuration 1 : with kernel_size = 3 in the skip connection and 2 blocks each\n",
        "\n",
        "layers=[2, 2, 2, 2]\n",
        "kernel_size = 3\n",
        "pool_size = 4\n",
        "model = ResNet(BasicBlock, layers)\n",
        "print(count_parameters(model))"
      ],
      "metadata": {
        "colab": {
          "base_uri": "https://localhost:8080/"
        },
        "id": "_57mCPFN7zn8",
        "outputId": "8ddd8071-3826-4bcb-be9e-7484d5503d95"
      },
      "execution_count": null,
      "outputs": [
        {
          "output_type": "stream",
          "name": "stdout",
          "text": [
            "12550218\n"
          ]
        }
      ]
    },
    {
      "cell_type": "markdown",
      "source": [
        "Since the Resnet-18 model with 2 blocks configuration gives us 12 million parameters, sensible next step is to try to build a model with 1 blocks each. "
      ],
      "metadata": {
        "id": "JxarKjjL87Wz"
      }
    },
    {
      "cell_type": "code",
      "source": [
        "#Configuration 2 :\n",
        "\n",
        "layers=[1, 1, 1, 1]\n",
        "kernel_size = 3\n",
        "pool_size = 4\n",
        "model = ResNet(BasicBlock, layers)\n",
        "print(count_parameters(model))"
      ],
      "metadata": {
        "colab": {
          "base_uri": "https://localhost:8080/"
        },
        "id": "0wr3oWNF78q5",
        "outputId": "c0c9565b-ff51-4895-ebc4-fc5dda6c54c7"
      },
      "execution_count": null,
      "outputs": [
        {
          "output_type": "stream",
          "name": "stdout",
          "text": [
            "6279498\n"
          ]
        }
      ]
    },
    {
      "cell_type": "markdown",
      "source": [
        "With the above configuration, we are able to get the model parameters to be below 6 million. Let's try a different configuration with kernel size to be 2"
      ],
      "metadata": {
        "id": "Fc3zegr39aOt"
      }
    },
    {
      "cell_type": "code",
      "source": [
        "#Configuration 3 :\n",
        "\n",
        "layers=[1, 1, 1, 1]\n",
        "kernel_size = 2\n",
        "pool_size = 4\n",
        "model = ResNet(BasicBlock, layers)\n",
        "print(count_parameters(model))"
      ],
      "metadata": {
        "colab": {
          "base_uri": "https://localhost:8080/"
        },
        "id": "b8_qhdAL9m3G",
        "outputId": "7b33e678-b1d7-408e-f218-e6ee43cb06f3"
      },
      "execution_count": null,
      "outputs": [
        {
          "output_type": "stream",
          "name": "stdout",
          "text": [
            "5419338\n"
          ]
        }
      ]
    },
    {
      "cell_type": "markdown",
      "source": [
        "With kernel size equal to 2, we get around 5 million parameters. we need to reduce the kernel size further. "
      ],
      "metadata": {
        "id": "6qz2hz35Dmr4"
      }
    },
    {
      "cell_type": "code",
      "source": [
        "#Configuration 4 :\n",
        "\n",
        "layers=[2, 2, 2, 2]\n",
        "kernel_size = 1\n",
        "pool_size = 4\n",
        "model = ResNet(BasicBlock, layers)\n",
        "print(count_parameters(model))"
      ],
      "metadata": {
        "id": "7qr-WST5DTPg",
        "colab": {
          "base_uri": "https://localhost:8080/"
        },
        "outputId": "07910406-53c7-4684-ea38-6317eef68e65"
      },
      "execution_count": null,
      "outputs": [
        {
          "output_type": "stream",
          "name": "stdout",
          "text": [
            "11173962\n"
          ]
        }
      ]
    },
    {
      "cell_type": "code",
      "source": [
        "#Configuration 5 :\n",
        "\n",
        "layers=[1, 1, 1, 1]\n",
        "kernel_size = 1\n",
        "pool_size = 4\n",
        "model = ResNet(BasicBlock, layers)\n",
        "print(count_parameters(model))"
      ],
      "metadata": {
        "colab": {
          "base_uri": "https://localhost:8080/"
        },
        "id": "TSVjSYxGDmZD",
        "outputId": "c3960d50-190b-40d8-9549-3d60cfb4e194"
      },
      "execution_count": null,
      "outputs": [
        {
          "output_type": "stream",
          "name": "stdout",
          "text": [
            "4903242\n"
          ]
        }
      ]
    },
    {
      "cell_type": "markdown",
      "source": [
        "From the above two configurations, we can understand that with block size of 2 and kernel size of 1 in skip connection , we get 11 million parameters as per the original resnet architecture. \n",
        "\n",
        "If we reduce the block size to 1 and with kernel size of 1, we get the required number of parameters which is below 5 million parameters. "
      ],
      "metadata": {
        "id": "ye7jEezvFAZN"
      }
    },
    {
      "cell_type": "code",
      "source": [
        "#Configuration 6 :\n",
        "\n",
        "layers=[1, 1, 1, 1]\n",
        "kernel_size = 1\n",
        "pool_size = 2\n",
        "model = ResNet(BasicBlock, layers)\n",
        "print(count_parameters(model))"
      ],
      "metadata": {
        "colab": {
          "base_uri": "https://localhost:8080/"
        },
        "id": "dn82qsFZE-bM",
        "outputId": "daa208b6-0324-4508-a8d7-997ad305ac72"
      },
      "execution_count": null,
      "outputs": [
        {
          "output_type": "stream",
          "name": "stdout",
          "text": [
            "4903242\n"
          ]
        }
      ]
    },
    {
      "cell_type": "code",
      "source": [
        "#Configuration 7 :\n",
        "\n",
        "layers=[1, 1, 1, 1]\n",
        "kernel_size = 1\n",
        "pool_size = 8\n",
        "model = ResNet(BasicBlock, layers)\n",
        "print(count_parameters(model))"
      ],
      "metadata": {
        "colab": {
          "base_uri": "https://localhost:8080/"
        },
        "id": "kP2kZMBCFq5H",
        "outputId": "681d2100-ab9b-417f-9dbe-515257d9df84"
      },
      "execution_count": null,
      "outputs": [
        {
          "output_type": "stream",
          "name": "stdout",
          "text": [
            "4903242\n"
          ]
        }
      ]
    },
    {
      "cell_type": "code",
      "source": [
        "#Configuration 8 :\n",
        "\n",
        "layers=[1, 1, 1, 1]\n",
        "kernel_size = 1\n",
        "pool_size = 16\n",
        "model = ResNet(BasicBlock, layers)\n",
        "print(count_parameters(model))"
      ],
      "metadata": {
        "colab": {
          "base_uri": "https://localhost:8080/"
        },
        "id": "mGFOuu5NFtah",
        "outputId": "539eb0c6-4c64-499e-bf38-1c86ac7f05f6"
      },
      "execution_count": null,
      "outputs": [
        {
          "output_type": "stream",
          "name": "stdout",
          "text": [
            "4903242\n"
          ]
        }
      ]
    },
    {
      "cell_type": "markdown",
      "source": [
        "With the above 3 configurations, we can see that changing the pool size in the Average pooling layer does not have an effect on number of parameters of the model. "
      ],
      "metadata": {
        "id": "eq71VSc7GBvw"
      }
    },
    {
      "cell_type": "markdown",
      "source": [
        "So, we are going to finalize the following parameters for our model which results in model parameters to be less than 5 million parameters.\n",
        "\n",
        "\n",
        "\n",
        "*   layers=[1, 1, 1, 1]\n",
        "*   kernel_size = 1 \n",
        "*   pool_size = 4\n",
        "\n",
        "\n",
        "\n",
        "\n",
        "\n",
        "\n"
      ],
      "metadata": {
        "id": "X-3UHbc7GUuD"
      }
    },
    {
      "cell_type": "code",
      "source": [],
      "metadata": {
        "id": "BWm1eiNdGAEM"
      },
      "execution_count": null,
      "outputs": []
    }
  ]
}